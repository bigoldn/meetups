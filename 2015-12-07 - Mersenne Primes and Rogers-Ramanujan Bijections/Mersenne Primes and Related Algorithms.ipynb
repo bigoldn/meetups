{
 "cells": [
  {
   "cell_type": "markdown",
   "metadata": {
    "slideshow": {
     "slide_type": "slide"
    }
   },
   "source": [
    "<div style=\"margin:20px 20px 0 0;overflow: auto\">\n",
    "    <div style=\"float:left;\">\n",
    "        <img style=\"display:block\" src=\"https://upload.wikimedia.org/wikipedia/commons/thumb/3/34/Marin_mersenne.jpg/220px-Marin_mersenne.jpg\" /> \n",
    "    </div>\n",
    "    <div style=\"margin-left:200px;\">\n",
    "        <p style=\"font-weight:bold;font-size:150%;\">Mersenne Primes &amp; Related Algorithms</p>\n",
    "        <p style=\"font-weight:bold;font-size:120%;\">Blair Azzopardi (blairuk at gmail dot com)</p>\n",
    "        <p style=\"font-weight:bold;font-size:100%;\">London Big O Meetup - December 2015</p>\n",
    "    </div>\n",
    "</div>\n"
   ]
  },
  {
   "cell_type": "markdown",
   "metadata": {
    "slideshow": {
     "slide_type": "slide"
    }
   },
   "source": [
    "# Prime numbers\n",
    "\n",
    "What are they?"
   ]
  },
  {
   "cell_type": "markdown",
   "metadata": {
    "slideshow": {
     "slide_type": "fragment"
    }
   },
   "source": [
    "*They are any whole number that is only exactly divisible by itself or 1. Any other number is called a composite number.*"
   ]
  },
  {
   "cell_type": "markdown",
   "metadata": {
    "slideshow": {
     "slide_type": "fragment"
    }
   },
   "source": [
    "Why are they interesting?"
   ]
  },
  {
   "cell_type": "markdown",
   "metadata": {
    "slideshow": {
     "slide_type": "fragment"
    }
   },
   "source": [
    "*They are used for public key cryptography. They also appear in nature with some speculation of a connection with quantum mechanics.*"
   ]
  },
  {
   "cell_type": "markdown",
   "metadata": {
    "slideshow": {
     "slide_type": "slide"
    }
   },
   "source": [
    "# Mersenne Primes\n",
    "\n",
    "A Mersenne number, $M_n$, is a number of the form $2^n-1$. When $n$ is a prime number and $M_n$ is also prime we have a Mersenne prime, $M_p$. Some examples include $M_2 = 2^2 - 1 = 3$, $M_3 = 7$ and $M_{13} = 8091$. \n",
    "\n",
    "They were discovered by Marin Mersenne, a monk, who in 1644 conjectured that $M_p$ is prime for $p$ = 2, 3, 5, 7, 13, 17, 19, 31, 67, 127 and 257. This was a remarkable statement, although it was later found that he was wrong for 67 and 257. He also seemed to miss 61, 89 and 107."
   ]
  },
  {
   "cell_type": "markdown",
   "metadata": {
    "slideshow": {
     "slide_type": "slide"
    }
   },
   "source": [
    "Mersenne primes are the largest known prime numbers known and this is because they can be tested using relatively simple algorithms.\n",
    "\n",
    "They have an interesting binary representation. A string of length $p$ consisting only on 1s.\n",
    "\n",
    "$$M_{13} = 8191 = 1111111111111_{\\text{binary}}$$\n",
    "$$M_{31} = 2147483647 = 1111111111111111111111111111111_{\\text{binary}}$$"
   ]
  },
  {
   "cell_type": "markdown",
   "metadata": {
    "slideshow": {
     "slide_type": "slide"
    }
   },
   "source": [
    "We know that not every prime number $p$ will make $M_p$ prime but what about the converse? "
   ]
  },
  {
   "cell_type": "markdown",
   "metadata": {
    "slideshow": {
     "slide_type": "fragment"
    }
   },
   "source": [
    "Well, if $p = ab$, then \n",
    "$$M_p = 2^{ab}-1 = (2^a)^b - 1 = (2^a-1) \\sum_{i=0}^{b-1} (2^a)^i$$ \n",
    "and so $M_p$ is also composite."
   ]
  },
  {
   "cell_type": "markdown",
   "metadata": {
    "slideshow": {
     "slide_type": "slide"
    }
   },
   "source": [
    "# Great Internet Mersenne Prime Search (GIMPS)\n",
    "\n",
    "* Collective effort to find Mersenne Primes.\n",
    "* Utilises the computational power of idle PCs around the world.\n",
    "* As of writing the largest Mersenne Prime is 57,885,161 and has a staggering denary 17,425,170 digits."
   ]
  },
  {
   "cell_type": "code",
   "execution_count": 2,
   "metadata": {
    "collapsed": true,
    "slideshow": {
     "slide_type": "skip"
    }
   },
   "outputs": [],
   "source": [
    "import pandas as pd\n",
    "import matplotlib.pyplot as plt\n",
    "%matplotlib inline\n",
    "mersenne_history = pd.DataFrame({\"p\":[13,17,19,31,61,89,107,127,521,607,1279,2203,2281,3217,4253,4423,9689,9941,11213,19937,21701,23209,44497,86243,110503,132049,216091,756839,859433,1257787,1398269,2976221,3021377,6972593,13466917,20996011,24036583,25964951,30402457,32582657,37156667,42643801,43112609,57885161]}, \n",
    "                                index=[1456,1588,1588,1772,1883,1911,1914,1876,1952,1952,1952,1952,1952,1957,1961,1961,1963,1963,1963,1971,1978,1979,1979,1982,1988,1983,1985,1992,1994,1996,1996,1997,1998,1999,2001,2003,2004,2005,2005,2006,2008,2009,2008,2013])\n"
   ]
  },
  {
   "cell_type": "code",
   "execution_count": 3,
   "metadata": {
    "collapsed": false,
    "slideshow": {
     "slide_type": "slide"
    }
   },
   "outputs": [
    {
     "data": {
      "text/plain": [
       "<matplotlib.text.Text at 0x868fef0>"
      ]
     },
     "execution_count": 3,
     "metadata": {},
     "output_type": "execute_result"
    },
    {
     "data": {
      "image/png": "[encoded data removed]",
      "text/plain": [
       "<matplotlib.figure.Figure at 0x5e7a978>"
      ]
     },
     "metadata": {},
     "output_type": "display_data"
    }
   ],
   "source": [
    "ax = mersenne_history.plot(logy=True, legend=False, figsize=(16, 6))\n",
    "ax.set_xlabel('Discovery Year')\n",
    "ax.set_ylabel('Log(p)')"
   ]
  },
  {
   "cell_type": "markdown",
   "metadata": {
    "slideshow": {
     "slide_type": "slide"
    }
   },
   "source": [
    "# Lucas Lehmer Test\n",
    "\n",
    "Mersenne numbers can be tested if they are prime using a simple test. Specifically, $M_p$ is prime if and only if $L_{p-2} = 0$ where $p>2$ and\n",
    "\n",
    "$$L_n=\n",
    "\\begin{cases}\n",
    "4 & n=0\n",
    "\\\\\n",
    "L_{n-1}^2-2 \\bmod{M_p}& n > 0\n",
    "\\end{cases}$$\n",
    "\n",
    "The proof relies on the fact that if $\\omega = 2 - \\sqrt{3}$ and  $\\bar{\\omega} = 2 + \\sqrt{3}$, then\n",
    "\n",
    "$$L_n = \\omega^{2^{n-1}} + \\bar{\\omega}^{2^{n-1}} \\bmod{M_p} $$\n",
    "\n",
    "The rest relies on looking at the order of the field extension $\\mathbb{Z_q}[\\sqrt{3}]$, utilizing some group theory then assuming $q$ is a factor of $M_p$ leading to a contradiction.\n"
   ]
  },
  {
   "cell_type": "markdown",
   "metadata": {
    "slideshow": {
     "slide_type": "subslide"
    }
   },
   "source": [
    "# Complexity\n",
    "\n",
    "* The Lucas Lehmer Test is O(p^3) or better."
   ]
  },
  {
   "cell_type": "markdown",
   "metadata": {
    "slideshow": {
     "slide_type": "slide"
    }
   },
   "source": [
    "# Implementations\n",
    "\n",
    "Back in 1997 when I first looked at this problem I used Maple. As you can see my approach was somewhat naive. For instance, \n",
    "I allocated a whole array to store the complete sequence.\n",
    "\n",
    "```\n",
    "merse1 := proc(x)\n",
    "    local L,i;\n",
    "        L := array(0 .. x-2);\n",
    "        L[1] := 4;\n",
    "        for i from 2 to x-2 do \n",
    "            L[i] := (L[i-1]^2-2) mod (2^x-1) \n",
    "        od;\n",
    "        if L[x-1] = 0 then \n",
    "            print(prime) \n",
    "        fi\n",
    "end\n",
    "```"
   ]
  },
  {
   "cell_type": "markdown",
   "metadata": {
    "slideshow": {
     "slide_type": "subslide"
    }
   },
   "source": [
    "My original notes suggest that it took my university batch scheduler at the time 17 hours to test all the Mersenne primes for 23209 and less. It's worth noting that $M_{23209}$ has 6,987 digits! \n",
    "\n",
    "Now that sounds like an easy challenge to beat!"
   ]
  },
  {
   "cell_type": "code",
   "execution_count": 21,
   "metadata": {
    "collapsed": true,
    "slideshow": {
     "slide_type": "fragment"
    }
   },
   "outputs": [],
   "source": [
    "mersenne_test_data = [3, 5, 7, 13, 17, 19, 31, 61, 89, 107, 127, \n",
    "                      521, 607, 1279, 2203, 2281, 3217, 4253, 4423, \n",
    "                      9689, 9941, 11213, 19937, 21701, 23209]"
   ]
  },
  {
   "cell_type": "markdown",
   "metadata": {
    "slideshow": {
     "slide_type": "slide"
    }
   },
   "source": [
    "# Plain Python\n",
    "\n",
    "Initially it's always worth trying this using simple python."
   ]
  },
  {
   "cell_type": "code",
   "execution_count": 9,
   "metadata": {
    "collapsed": true,
    "slideshow": {
     "slide_type": "fragment"
    }
   },
   "outputs": [],
   "source": [
    "def merse2(x):\n",
    "    L = 4\n",
    "    for i in range (2, x):\n",
    "        L = ((L**2-2) % (2**x-1))\n",
    "    return \"prime\" if L == 0 else \"comp\""
   ]
  },
  {
   "cell_type": "code",
   "execution_count": 10,
   "metadata": {
    "collapsed": false,
    "format": "column",
    "slideshow": {
     "slide_type": "fragment"
    }
   },
   "outputs": [
    {
     "name": "stdout",
     "output_type": "stream",
     "text": [
      "1 loops, best of 1: 5min 30s per loop\n"
     ]
    }
   ],
   "source": [
    "%%timeit -n1 -r1\n",
    "[merse2(n) for n in mersenne_test_data]"
   ]
  },
  {
   "cell_type": "markdown",
   "metadata": {
    "slideshow": {
     "slide_type": "slide"
    }
   },
   "source": [
    "# Optimized with GMP's mpz\n",
    "\n",
    "Python implements it's own big integer type. It's not particularly efficient. One easy optimization is to use GNU multi precision library. "
   ]
  },
  {
   "cell_type": "code",
   "execution_count": 11,
   "metadata": {
    "collapsed": true,
    "slideshow": {
     "slide_type": "skip"
    }
   },
   "outputs": [],
   "source": [
    "import gmpy2\n",
    "from gmpy2 import mpz"
   ]
  },
  {
   "cell_type": "code",
   "execution_count": 14,
   "metadata": {
    "collapsed": true,
    "slideshow": {
     "slide_type": "fragment"
    }
   },
   "outputs": [],
   "source": [
    "def merse3(x):\n",
    "    L = mpz(4)\n",
    "    for i in range (2, x):\n",
    "        L = ((L**2-2) % (2**x-1))\n",
    "    return \"prime\" if L == 0 else \"comp\""
   ]
  },
  {
   "cell_type": "code",
   "execution_count": 15,
   "metadata": {
    "collapsed": false,
    "format": "column",
    "slideshow": {
     "slide_type": "fragment"
    }
   },
   "outputs": [
    {
     "name": "stdout",
     "output_type": "stream",
     "text": [
      "1 loops, best of 1: 1min 8s per loop\n"
     ]
    }
   ],
   "source": [
    "%%timeit -n1 -r1\n",
    "[merse3(n) for n in mersenne_test_data]"
   ]
  },
  {
   "cell_type": "markdown",
   "metadata": {
    "slideshow": {
     "slide_type": "slide"
    }
   },
   "source": [
    "# Additional optimization with Cython\n",
    "\n",
    "We're still bound by Python's loop over i. Python will maintain a significant stack. A simple way around this is to use Cython."
   ]
  },
  {
   "cell_type": "code",
   "execution_count": 12,
   "metadata": {
    "collapsed": true,
    "slideshow": {
     "slide_type": "skip"
    }
   },
   "outputs": [],
   "source": [
    "%load_ext Cython"
   ]
  },
  {
   "cell_type": "code",
   "execution_count": 13,
   "metadata": {
    "collapsed": false,
    "slideshow": {
     "slide_type": "fragment"
    }
   },
   "outputs": [],
   "source": [
    "%%cython\n",
    "import gmpy2\n",
    "from gmpy2 import mpz\n",
    "\n",
    "def merse4(int x):\n",
    "    L = mpz(4)\n",
    "    cdef int i = 2\n",
    "    while i < x:\n",
    "        L = ((L**2-2) % (2**x-1))\n",
    "        i += 1\n",
    "    return \"prime\" if L == 0 else \"comp\""
   ]
  },
  {
   "cell_type": "code",
   "execution_count": 23,
   "metadata": {
    "collapsed": false,
    "format": "column",
    "slideshow": {
     "slide_type": "fragment"
    }
   },
   "outputs": [
    {
     "name": "stdout",
     "output_type": "stream",
     "text": [
      "1 loops, best of 1: 123 ms per loop\n"
     ]
    }
   ],
   "source": [
    "%%timeit -n1 -r1\n",
    "[merse4(n) for n in mersenne_test_data]"
   ]
  },
  {
   "cell_type": "markdown",
   "metadata": {
    "slideshow": {
     "slide_type": "slide"
    }
   },
   "source": [
    "# What is happening under the hood?\n",
    "\n",
    "* Modern CPUs can only carry out integer multiplications on typical word sizes such as 32 or 64 bits.\n",
    "* Larger products are performed by splitting each multiplicand $n$ into vectors ${ d_i }$ of smaller word size or base $B$ where the following is true $$n = \\sum_{i=0}^{N} d_i B^i$$"
   ]
  },
  {
   "cell_type": "code",
   "execution_count": 5,
   "metadata": {
    "collapsed": true,
    "slideshow": {
     "slide_type": "skip"
    }
   },
   "outputs": [],
   "source": [
    "from math import ceil\n",
    "from sympy import log\n",
    "def to_words(n, length = None, base=10):\n",
    "    \"\"\" splits an integer into smaller words with padding for result to be of length \"\"\"\n",
    "    words = []\n",
    "    if log(base, 2) % 8 == 0:\n",
    "        bytes_per_word = int(log(base, 2)/8)\n",
    "        n_bytes = n.to_bytes(ceil(n.bit_length()/8), 'little')\n",
    "        padding_bytes = (bytes_per_word - len(n_bytes)) % bytes_per_word\n",
    "        n_bytes_padded = list(n_bytes) + [0] * padding_bytes\n",
    "        chunked = [ n_bytes_padded[i:i+bytes_per_word] for i in range(0, len(n_bytes_padded), bytes_per_word)]\n",
    "        words = [sum([c*2**(8*i) for i,c in enumerate(byte_list)]) for byte_list in chunked]\n",
    "    elif log(base, 10) % 1 == 0:\n",
    "        digits_per_word = int(log(base, 10))\n",
    "        n_digits = [int(i) for i in list(str(n))][::-1]\n",
    "        padding_digits = (digits_per_word - len(n_digits)) % digits_per_word\n",
    "        n_digits_padded = list(n_digits) + [0] * padding_digits\n",
    "        chunked = [ n_digits_padded[i:i+digits_per_word] for i in range(0, len(n_digits_padded), digits_per_word)]\n",
    "        words = [sum([c*10**i for i,c in enumerate(digit_list)]) for digit_list in chunked]\n",
    "    else:\n",
    "        raise ValueError(\"base must be power of 10 or power of 2**8\")\n",
    "    return words + [0] * (length - len(words)) if length else words"
   ]
  },
  {
   "cell_type": "code",
   "execution_count": 2,
   "metadata": {
    "collapsed": false,
    "slideshow": {
     "slide_type": "subslide"
    }
   },
   "outputs": [
    {
     "data": {
      "text/plain": [
       "[8, 7, 6, 5, 4, 3, 2, 1, 9, 8, 7, 6, 5, 4, 3, 2, 1, 9, 8, 7, 6, 5, 4, 3, 2, 1]"
      ]
     },
     "execution_count": 2,
     "metadata": {},
     "output_type": "execute_result"
    }
   ],
   "source": [
    "to_words(12345678912345678912345678, base=10)"
   ]
  },
  {
   "cell_type": "code",
   "execution_count": 29,
   "metadata": {
    "collapsed": false,
    "slideshow": {
     "slide_type": "subslide"
    }
   },
   "outputs": [
    {
     "data": {
      "image/png": "[encoded data removed]",
      "text/latex": [
       "$$\\left [ 2355549774, \\quad 2554984489, \\quad 669260\\right ]$$"
      ],
      "text/plain": [
       "[2355549774, 2554984489, 669260]"
      ]
     },
     "execution_count": 29,
     "metadata": {},
     "output_type": "execute_result"
    }
   ],
   "source": [
    "to_words(12345678912345678912345678, base=2**32)"
   ]
  },
  {
   "cell_type": "markdown",
   "metadata": {
    "slideshow": {
     "slide_type": "fragment"
    }
   },
   "source": [
    "* We can then use polynomial multiplication to calculate the product of integers, i.e. \n",
    "$$n \\times m = \\sum_{i=0}^{N} \\sum_{j=0}^{M} d_i e_j B^{i+j}   $$\n",
    "\n",
    "* If we ignore additions, we see has complexity $\\mathcal{O}(n^2)$\n",
    "* Along with carry, this forms the basis of long multiplication"
   ]
  },
  {
   "cell_type": "markdown",
   "metadata": {
    "slideshow": {
     "slide_type": "slide"
    }
   },
   "source": [
    "# Long Multiplication\n",
    "\n",
    "$$\n",
    "\\begin{align*}\n",
    "d_N d_{N-1} .. d_1 d_0 && \\\\\n",
    "\\underline{\\times \\quad e_M e_{M-1} .. e_1 e_0} && \\\\\n",
    "x_{N',0} x_{N'-1,0} .. x_{1,0} x_{0,0} && (e_0 \\times n \\text{, shifted by }B^0) \\\\\n",
    "x_{N'',1} x_{N''-1,1} .. x_{1,1} x_{0,1} \\quad && (e_1 \\times n \\text{, shifted by }B^1) \\\\\n",
    ".. \\\\\n",
    "\\underline{x_{N''',M} x_{N'''-1,M} .. x_{1,M} x_{0,M} \\quad \\quad}&& (e_M \\times n \\text{, shifted by }B^M) \\\\\n",
    "x_{N''''} x_{N''''-1} .. x_1 x_0 && \\\\\n",
    "\\end{align*}\n",
    "$$\n"
   ]
  },
  {
   "cell_type": "markdown",
   "metadata": {
    "slideshow": {
     "slide_type": "slide"
    }
   },
   "source": [
    "# OpenCL and Long Multiplication\n",
    "\n",
    "* OpenCL is a heterogeneous parallel computing framework.\n",
    "* It can utilise either CPUs or GPUs.\n",
    "* Long multiplication is well suited to parrallel computing.\n",
    "* Can we apply this simple algorithm using GPUs? "
   ]
  },
  {
   "cell_type": "markdown",
   "metadata": {
    "slideshow": {
     "slide_type": "slide"
    }
   },
   "source": [
    "# OpenCL and Long Multiplication - Attempt 1\n",
    "\n",
    "* Calculate each word product combination.\n",
    "\n",
    "```c\n",
    "kernel void product_kernel( \n",
    "    global const uint *x_g, const uint x_size_g,\n",
    "    global const uint *y_g, const uint y_size_g,\n",
    "    global uint *z_g, const uint z_size_g,\n",
    "\tglobal uint *semaphore_g, const uint semaphore_size_g\n",
    ") {\n",
    "    int i = get_local_id(0);\n",
    "    int j = get_local_id(1);\n",
    "   \n",
    "    word_result prod = word_product(x_g[i], y_g[j]);\n",
    "\n",
    "\tuint overflow1 = prod.hi;\n",
    "\tuint overflow2 = update_result(semaphor_g, z_g, i + j, prod.lo);\n",
    "\n",
    "\tfor (int r = 1; r < z_size_g - (i + j); r++) { // r < z_size_g -i -j\t\t\n",
    "\t\toverflow1 = update_result(semaphor_g, z_g, i + j + r, overflow1);\n",
    "\t\toverflow2 = update_result(semaphor_g, z_g, i + j + r, overflow2);\n",
    "\t\tif (!(overflow1 || overflow2))\n",
    "\t\t\tbreak;\n",
    "\t}\n",
    "}\n",
    "```"
   ]
  },
  {
   "cell_type": "markdown",
   "metadata": {
    "slideshow": {
     "slide_type": "slide"
    }
   },
   "source": [
    "* Use spinlock to process overflow / carry.\n",
    "\n",
    "```c\n",
    "uint update_result(global uint * semaphore_g, global uint *z_g, uint index, uint value) {\n",
    "\tget_semaphore(&semaphore_g[index]);\n",
    "\tuint preval = z_g[index];\n",
    "\tword_result sum = word_sum(z_g[index], value);\n",
    "\tz_g[index] = sum.lo;\n",
    "\trelease_semaphore(&semaphore_g[index]);\n",
    "\treturn sum.hi;\n",
    "}\n",
    "```"
   ]
  },
  {
   "cell_type": "markdown",
   "metadata": {
    "slideshow": {
     "slide_type": "subslide"
    }
   },
   "source": [
    "* Works okay on Intel CPU device.\n",
    "* Fails on Nvida GPU most likely because of it's parallel thread execution model."
   ]
  },
  {
   "cell_type": "markdown",
   "metadata": {
    "slideshow": {
     "slide_type": "slide"
    }
   },
   "source": [
    "# OpenCL and Long Multiplication - Attempt 2\n",
    "\n",
    "* Calculate all pairwise products storing results in stacks.\n",
    "* Sum stacks in separate accumulation kernel.\n",
    "\n",
    "```c\n",
    "void append_to_work_array(global uint *z_array_g, global uint *z_array_index_g, const uint z_array_ncols_g, uint index, uint value) {\n",
    "\tuint row = atomic_inc(&z_array_index_g[index]);\n",
    "\tz_array_g[row*z_array_ncols_g + index] = value;\n",
    "}\n",
    "```"
   ]
  },
  {
   "cell_type": "code",
   "execution_count": 14,
   "metadata": {
    "collapsed": true,
    "slideshow": {
     "slide_type": "skip"
    }
   },
   "outputs": [],
   "source": [
    "import numpy as np\n",
    "import pyopencl as cl\n",
    "import pyopencl.tools\n",
    "import random\n",
    "import os\n",
    "\n",
    "os.environ['PYOPENCL_CTX'] = \"0\"\n",
    "os.environ['CPU_MAX_COMPUTE_UNITS'] = '1'\n",
    "os.environ['PYOPENCL_COMPILER_OUTPUT'] = '1'\n",
    "os.environ['PYOPENCL_NO_CACHE'] = '1'\n",
    "\n",
    "ctx = cl.create_some_context(interactive=True)\n",
    "queue = cl.CommandQueue(ctx)"
   ]
  },
  {
   "cell_type": "code",
   "execution_count": 2,
   "metadata": {
    "collapsed": true,
    "slideshow": {
     "slide_type": "skip"
    }
   },
   "outputs": [],
   "source": [
    "%reload_ext pyopencl.ipython_ext"
   ]
  },
  {
   "cell_type": "code",
   "execution_count": 15,
   "metadata": {
    "collapsed": true,
    "slideshow": {
     "slide_type": "skip"
    }
   },
   "outputs": [],
   "source": [
    "from math import log, ceil\n",
    "def to_words(n, base=2**32, dtype=np.uint32, block_size = None):\n",
    "    \"\"\" splits an integer array of x bit words \"\"\"\n",
    "    words = []\n",
    "    bytes_per_word = int(log(base, 2)/8)\n",
    "    n_bytes = n.to_bytes(ceil(n.bit_length()/8), 'little')\n",
    "    padding_bytes = (bytes_per_word - len(n_bytes)) % bytes_per_word\n",
    "    n_bytes_padded = list(n_bytes) + [0] * padding_bytes\n",
    "    chunked = [ n_bytes_padded[i:i+bytes_per_word] for i in range(0, len(n_bytes_padded), bytes_per_word)]\n",
    "    words = [sum([c*2**(8*i) for i,c in enumerate(byte_list)]) for byte_list in chunked]\n",
    "    if block_size:\n",
    "        words = words + [0] * (block_size - (len(words) % block_size))\n",
    "    return np.array(words).astype(dtype)"
   ]
  },
  {
   "cell_type": "code",
   "execution_count": 7,
   "metadata": {
    "collapsed": true,
    "slideshow": {
     "slide_type": "skip"
    }
   },
   "outputs": [],
   "source": [
    "%%cl_kernel\n",
    "\n",
    "// UINT_MAX\n",
    "#define MAXINT32 4294967295U\n",
    "// USHRT_MAX\n",
    "#define MAXINT16 65535\n",
    "#define WORDBITS 32\n",
    "#define HI16(x) (x >> WORDBITS/2)\n",
    "#define LO16(x) (x & MAXINT16)\n",
    "\n",
    "typedef struct {\n",
    "\tuint lo;\n",
    "\tuint hi; // carry\n",
    "} word_result;\n",
    "\n",
    "\n",
    "word_result word_sum(uint x, uint y) {\n",
    "\tword_result wr;\n",
    "\tif (x > MAXINT32 - y) { // overflow\n",
    "\t\twr.lo = x - (MAXINT32 - y) - 1; // x + y % (MAXINT32+1)\n",
    "\t\twr.hi = 1;\n",
    "\t}\n",
    "\telse {\n",
    "\t\twr.lo = x + y;\n",
    "\t\twr.hi = 0;\n",
    "\t}\n",
    "\treturn wr;\n",
    "}\n",
    "\n",
    "// see http://stackoverflow.com/questions/1815367/multiplication-of-large-numbers-how-to-catch-overflow\n",
    "word_result word_product(uint x, uint y) {\n",
    "\tword_result wr;\n",
    "\n",
    "\tuint x_hi = HI16(x);\n",
    "\tuint x_lo = LO16(x);\n",
    "\tuint y_hi = HI16(y);\n",
    "\tuint y_lo = LO16(y);\n",
    "\n",
    "\tuint z = x_lo * y_lo;\n",
    "\tif (!(x_hi || y_hi)) {\n",
    "\t\twr.lo = z;\n",
    "\t\twr.hi = 0;\n",
    "\t}\n",
    "\telse {\n",
    "\t\tuint s0 = LO16(z);\n",
    "\n",
    "\t\tz = x_hi * y_lo + HI16(z);\n",
    "\t\tuint s1 = LO16(z);\n",
    "\t\tuint s2 = HI16(z);\n",
    "\n",
    "\t\tz = s1 + x_lo * y_hi;\n",
    "\t\ts1 = LO16(z);\n",
    "\n",
    "\t\tz = s2 + x_hi * y_hi + HI16(z);\n",
    "\t\ts2 = LO16(z);\n",
    "\t\tuint s3 = HI16(z);\n",
    "\n",
    "\t\twr.lo = s1 << 16 | s0;\n",
    "\t\twr.hi = s3 << 16 | s2;\n",
    "\t}\n",
    "\treturn wr;\n",
    "}\n",
    "\n",
    "\n",
    "void append_to_work_array(global uint *z_array_g, global uint *z_array_index_g, const uint z_array_ncols_g, uint index, uint value) {\n",
    "\tuint row = atomic_inc(&z_array_index_g[index]);\n",
    "\tz_array_g[row*z_array_ncols_g + index] = value;\n",
    "}\n",
    "\n",
    "kernel void product_kernel(\n",
    "\tglobal const uint *x_g, const uint x_size_g,\n",
    "\tglobal const uint *y_g, const uint y_size_g,\n",
    "\tglobal uint *z_array_g, const uint z_array_nrows_g, const uint z_array_ncols_g,\n",
    "\tglobal uint *z_array_index_g\n",
    "\t) {\n",
    "\n",
    "\tint i = get_global_id(0);\n",
    "\tint j = get_global_id(1);\n",
    "\n",
    "\tif (x_g[i] && y_g[i]) {\n",
    "\t\tword_result prod = word_product(x_g[i], y_g[j]);\n",
    "\t\tappend_to_work_array(z_array_g, z_array_index_g, z_array_ncols_g, i + j, prod.lo);\n",
    "\t\tappend_to_work_array(z_array_g, z_array_index_g, z_array_ncols_g, i + j + 1, prod.hi);\n",
    "\t}\n",
    "}\n",
    "\n",
    "kernel void accumulate_kernel(\n",
    "\tglobal uint *z_array_g, const uint z_array_nrows_g, const uint z_array_ncols_g,\n",
    "\tglobal uint *z_array_index_g,\n",
    "\tglobal uint *z_g, const uint z_size_g\n",
    "\t) {\n",
    "\n",
    "\tfor (uint i = 0; i < z_array_ncols_g; i++) {\n",
    "\t\tfor (uint j = 0; j < z_array_index_g[i]; j++) {\n",
    "\t\t\tword_result sum = word_sum(z_g[i], z_array_g[j*z_array_ncols_g + i]);\n",
    "\t\t\tz_g[i] = sum.lo;\n",
    "\t\t\tif (sum.hi != 0) {\n",
    "\t\t\t\tz_g[i + 1] += sum.hi; // as always only +1 (<<base) thus save allocating mem\n",
    "\t\t\t}\n",
    "\t\t}\n",
    "\t}\n",
    "}"
   ]
  },
  {
   "cell_type": "markdown",
   "metadata": {
    "slideshow": {
     "slide_type": "subslide"
    }
   },
   "source": [
    "```c\n",
    "kernel void product_kernel(\n",
    "\tglobal const uint *x_g, const uint x_size_g,\n",
    "\tglobal const uint *y_g, const uint y_size_g,\n",
    "\tglobal uint *z_array_g, const uint z_array_nrows_g, const uint z_array_ncols_g,\n",
    "\tglobal uint *z_array_index_g\n",
    "\t) {\n",
    "\n",
    "\tint i = get_global_id(0);\n",
    "\tint j = get_global_id(1);\n",
    "\n",
    "\tif (x_g[i] && y_g[i]) {\n",
    "\t\tword_result prod = word_product(x_g[i], y_g[j]);\n",
    "\t\tappend_to_work_array(z_array_g, z_array_index_g, z_array_ncols_g, i + j, prod.lo);\n",
    "\t\tappend_to_work_array(z_array_g, z_array_index_g, z_array_ncols_g, i + j + 1, prod.hi);\n",
    "\t}\n",
    "}\n",
    "```"
   ]
  },
  {
   "cell_type": "code",
   "execution_count": 10,
   "metadata": {
    "collapsed": false
   },
   "outputs": [],
   "source": [
    "block_size = 32 # nvidia 32\n",
    "ws = 120 * block_size # nvidia limit = 7 x 32\n",
    "\n",
    "base = 2**32\n",
    "#x = 123456789123456789\n",
    "#y = 112233445566778899\n",
    "x = random.randint(1,base**ws)\n",
    "y = random.randint(1,base**ws)\n",
    "x_w = to_words(x, base=base, dtype=np.uint32, block_size = block_size)\n",
    "y_w = to_words(y, base=base, dtype=np.uint32, block_size = block_size)\n",
    "z_w = np.zeros(len(x_w)+len(y_w), dtype=np.uint32)\n",
    "z_array = np.zeros((2*ws-1,len(x_w)+len(y_w)), dtype=np.uint32)\n",
    "z_array_index = np.zeros((len(x_w)+len(y_w)), dtype=np.uint32)\n",
    "\n",
    "mf = cl.mem_flags\n",
    "x_g = cl.Buffer(ctx, mf.READ_ONLY | mf.COPY_HOST_PTR, hostbuf=x_w)\n",
    "y_g = cl.Buffer(ctx, mf.READ_ONLY | mf.COPY_HOST_PTR, hostbuf=y_w)\n",
    "z_g = cl.Buffer(ctx, mf.READ_WRITE | mf.COPY_HOST_PTR, hostbuf=z_w)\n",
    "z_array_g = cl.Buffer(ctx, mf.READ_WRITE | mf.COPY_HOST_PTR, hostbuf=z_array) # work area\n",
    "z_array_index_g = cl.Buffer(ctx, mf.READ_WRITE | mf.COPY_HOST_PTR, hostbuf=z_array_index) # work area index\n",
    "\n",
    "product_kernel.set_args(\n",
    "    x_g, np.uint32(len(x_w)),\n",
    "    y_g, np.uint32(len(y_w)),\n",
    "    z_array_g, np.uint32(z_array.shape[0]), np.uint32(z_array.shape[1]),\n",
    "    z_array_index_g\n",
    ")\n",
    "\n",
    "accumulate_kernel.set_args(\n",
    "    z_array_g, np.uint32(z_array.shape[0]), np.uint32(z_array.shape[1]),\n",
    "    z_array_index_g,\n",
    "    z_g, np.uint32(len(z_w))\n",
    ")\n",
    "\n",
    "#pk_ev = cl.enqueue_nd_range_kernel(queue, product_kernel, (len(x_w),len(y_w),), (block_size,block_size,))\n",
    "#ak_ev = cl.enqueue_task(queue, accumulate_kernel, wait_for=[pk_ev])\n",
    "#ak_ev.wait()\n",
    "\n",
    "#cl.enqueue_copy(queue, z_array, z_array_g)\n",
    "#cl.enqueue_copy(queue, z_w, z_g)"
   ]
  },
  {
   "cell_type": "markdown",
   "metadata": {
    "slideshow": {
     "slide_type": "slide"
    }
   },
   "source": [
    "# How does this compare to standard libraries?"
   ]
  },
  {
   "cell_type": "markdown",
   "metadata": {
    "slideshow": {
     "slide_type": "fragment"
    }
   },
   "source": [
    "* Plain python - most likely same algorithm"
   ]
  },
  {
   "cell_type": "code",
   "execution_count": 20,
   "metadata": {
    "collapsed": false,
    "slideshow": {
     "slide_type": "fragment"
    }
   },
   "outputs": [
    {
     "name": "stdout",
     "output_type": "stream",
     "text": [
      "5 loops, best of 1: 7.31 ms per loop\n"
     ]
    }
   ],
   "source": [
    "%%timeit -r1 -n5\n",
    "x*y"
   ]
  },
  {
   "cell_type": "markdown",
   "metadata": {},
   "source": [
    "* GMP's mpz - highly optimized using many different algorithms"
   ]
  },
  {
   "cell_type": "code",
   "execution_count": 13,
   "metadata": {
    "collapsed": false,
    "slideshow": {
     "slide_type": "skip"
    }
   },
   "outputs": [],
   "source": [
    "import gmpy2\n",
    "from gmpy2 import mpz\n",
    "x_mpz = mpz(x)\n",
    "y_mpz = mpz(y)"
   ]
  },
  {
   "cell_type": "code",
   "execution_count": 18,
   "metadata": {
    "collapsed": false,
    "slideshow": {
     "slide_type": "fragment"
    }
   },
   "outputs": [
    {
     "name": "stdout",
     "output_type": "stream",
     "text": [
      "5 loops, best of 1: 710 µs per loop\n"
     ]
    }
   ],
   "source": [
    "%%timeit -r1 -n5\n",
    "x_mpz*y_mpz"
   ]
  },
  {
   "cell_type": "markdown",
   "metadata": {
    "slideshow": {
     "slide_type": "subslide"
    }
   },
   "source": [
    "* OpenCL on Nvidia GEForce GPU"
   ]
  },
  {
   "cell_type": "code",
   "execution_count": 19,
   "metadata": {
    "collapsed": false,
    "slideshow": {
     "slide_type": "fragment"
    }
   },
   "outputs": [
    {
     "name": "stdout",
     "output_type": "stream",
     "text": [
      "5 loops, best of 1: 88.9 µs per loop\n"
     ]
    }
   ],
   "source": [
    "%%timeit -r1 -n5\n",
    "pk_ev = cl.enqueue_nd_range_kernel(queue, product_kernel, (len(x_w),len(y_w),), (block_size,block_size,))\n",
    "ak_ev = cl.enqueue_task(queue, accumulate_kernel, wait_for=[pk_ev])"
   ]
  },
  {
   "cell_type": "markdown",
   "metadata": {
    "slideshow": {
     "slide_type": "fragment"
    }
   },
   "source": [
    "* Is this fair? In OpenCL example we excluded up/download times\n",
    "* Looks suspicious and should really test more inputs..\n",
    "* Can we improve on this?"
   ]
  },
  {
   "cell_type": "markdown",
   "metadata": {
    "slideshow": {
     "slide_type": "slide"
    }
   },
   "source": [
    "# Polynomial representations\n",
    "\n",
    "Several ways to fix a polynomial $f(t)$ of degree $k$ using $k+1$ parameters\n",
    "\n",
    "| Coefficient Representation | Root Representation | Unique Point Value Representation |\n",
    "|:-:|:-:|:-:|\n",
    "| $\\sum_{i=0}^k a_i t^i$ | $a_0\\prod_{i=1}^{k-1} (t-a_i)$ | $\\{ t_i, f(t_i) \\}_{i=0}^k$ |\n",
    "| $\\{a_i\\}_{i=0}^k$ | $\\{a_i\\}_{i=0}^k$ | $\\{ f(t_i) \\}_{i=0}^k$ |\n",
    "| $\\{c_i\\} = \\{a_i + b_i\\}$ | Non trivial | $\\{ h(t_i) \\} = \\{ f(t_i) + g(t_i) \\}$ |\n",
    "| $\\{c_i\\} = \\{ \\sum _{j=0}^{i} a_j b_{i-j} \\}$ | $\\{c_i\\} = \\{a_i\\} \\cup \\{b_i\\}$ |  $\\{ h(t_i) \\} = \\{ f(t_i) \\times g(t_i) \\}$ |\n",
    "\n",
    "Note that Unique Point Value Representation allows polynomials to be operated on component-wise."
   ]
  },
  {
   "cell_type": "code",
   "execution_count": 2,
   "metadata": {
    "collapsed": false,
    "slideshow": {
     "slide_type": "skip"
    }
   },
   "outputs": [
    {
     "name": "stdout",
     "output_type": "stream",
     "text": [
      "IPython console for SymPy 0.7.7.dev (Python 3.4.3-64-bit) (ground types: gmpy)\n"
     ]
    }
   ],
   "source": [
    "from IPython.display import Latex\n",
    "import sympy as sp\n",
    "import sympy.matrices as spm\n",
    "sp.init_session(quiet=True, ipython=True) "
   ]
  },
  {
   "cell_type": "code",
   "execution_count": 3,
   "metadata": {
    "collapsed": true,
    "slideshow": {
     "slide_type": "skip"
    }
   },
   "outputs": [],
   "source": [
    "k = 3\n",
    "D = 2*k - 1\n",
    "t = sp.symbols(\"t\")\n",
    "# vectors\n",
    "x = Matrix(sp.symbols([\"x%s\" % i for i in range(k)]))\n",
    "y = Matrix(sp.symbols([\"y%s\" % i for i in range(k)]))\n",
    "z = Matrix(sp.symbols([\"z%s\" % i for i in range(D)]))\n",
    "# polys\n",
    "x_t = sp.Poly(x[::-1], t)\n",
    "y_t = sp.Poly(y[::-1], t)\n",
    "z_t = sp.Poly(z[::-1], t)\n",
    "# linear system\n",
    "x_d = [x_t(i) for i in range(1-k,k-1,1)] + [x_t.coeffs()[0]]\n",
    "y_d = [y_t(i) for i in range(1-k,k-1,1)] + [y_t.coeffs()[0]]\n",
    "z_d = [z_t(i) for i in range(1-k,k-1,1)] + [z_t.coeffs()[0]]\n",
    "# matrices\n",
    "x_m = sp.Matrix([[x_d[j].coeff(i) for i in x] for j in range(D)])\n",
    "y_m = sp.Matrix([[y_d[j].coeff(i) for i in y] for j in range(D)])\n",
    "z_m = sp.Matrix([[z_d[j].coeff(i) for i in z] for j in range(D)])"
   ]
  },
  {
   "cell_type": "markdown",
   "metadata": {
    "collapsed": false,
    "slideshow": {
     "slide_type": "slide"
    }
   },
   "source": [
    "# Unique Point Value Representation\n",
    "\n",
    "* Two numbers can be multiplied elementwise in $\\mathcal{O}(n)$. \n",
    "* We still need to transform from/to coefficient representation form. \n",
    "* This requires evaluating polynomials at several points.\n",
    "* Standard monomial evaluation $\\sum_{i=0}^k a_i t^i$ is $\\mathcal{O}(n^2)$.\n",
    "* Can be reduced to $\\mathcal{O}(n)$ by Horner's method by evaluating $a_0 + t(a_1 + t(a_2 + \\cdots + t(a_{k-1} + a_k t)))$.\n",
    "\n"
   ]
  },
  {
   "cell_type": "code",
   "execution_count": 4,
   "metadata": {
    "collapsed": false,
    "slideshow": {
     "slide_type": "skip"
    }
   },
   "outputs": [
    {
     "data": {
      "text/latex": [
       "$\\left[\\begin{matrix}1 & -2 & 4 & -8 & 16\\\\1 & -1 & 1 & -1 & 1\\\\1 & 0 & 0 & 0 & 0\\\\1 & 1 & 1 & 1 & 1\\\\0 & 0 & 0 & 0 & 1\\end{matrix}\\right] \\left[\\begin{matrix}z_{0}\\\\z_{1}\\\\z_{2}\\\\z_{3}\\\\z_{4}\\end{matrix}\\right] = \\left[\\begin{matrix}1 & -2 & 4\\\\1 & -1 & 1\\\\1 & 0 & 0\\\\1 & 1 & 1\\\\0 & 0 & 1\\end{matrix}\\right] \\left[\\begin{matrix}x_{0}\\\\x_{1}\\\\x_{2}\\end{matrix}\\right] \\odot \\left[\\begin{matrix}1 & -2 & 4\\\\1 & -1 & 1\\\\1 & 0 & 0\\\\1 & 1 & 1\\\\0 & 0 & 1\\end{matrix}\\right] \\left[\\begin{matrix}y_{0}\\\\y_{1}\\\\y_{2}\\end{matrix}\\right]$"
      ],
      "text/plain": [
       "<IPython.core.display.Latex object>"
      ]
     },
     "execution_count": 4,
     "metadata": {},
     "output_type": "execute_result"
    }
   ],
   "source": [
    "_x_t = Latex(\"$%s$\" % latex(x_t.as_expr()))\n",
    "_x_m_x = Latex(r\"$%s = %s %s$\" % tuple([latex(i) for i in (x_m*x, x_m, x)]))\n",
    "_z_xy = Latex(r\"$%s %s = %s %s \\odot %s %s$\" % tuple([latex(i) for i in (z_m, z, x_m, x, y_m, y)]))\n",
    "_z_xy"
   ]
  },
  {
   "cell_type": "markdown",
   "metadata": {
    "slideshow": {
     "slide_type": "slide"
    },
    "variables": {
     "_x_t": {}
    }
   },
   "source": [
    "# Toom Cook Algorithm\n",
    "\n",
    "* Uses point representation & splits multiplicand into $k$ words.\n",
    "* Overcomes complexity by careful choice of evaluation points.\n",
    "* Typically, $t=..,-2,-1,0,1,..,\\infty$ where evaluation at $\\infty$ equates to highest coefficient.\n",
    "* For $k=3$, the $2^{nd}$ degree polynomial {{_x_t}}, evaluates to:\n"
   ]
  },
  {
   "cell_type": "markdown",
   "metadata": {
    "slideshow": {
     "slide_type": "subslide"
    },
    "variables": {
     "_x_m_x": "$\\left[\\begin{matrix}x_{0} - 2 x_{1} + 4 x_{2}\\\\x_{0} - x_{1} + x_{2}\\\\x_{0}\\\\x_{0} + x_{1} + x_{2}\\\\x_{2}\\end{matrix}\\right] = \\left[\\begin{matrix}1 & -2 & 4\\\\1 & -1 & 1\\\\1 & 0 & 0\\\\1 & 1 & 1\\\\0 & 0 & 1\\end{matrix}\\right] \\left[\\begin{matrix}x_{0}\\\\x_{1}\\\\x_{2}\\end{matrix}\\right]$"
    }
   },
   "source": [
    "{{_x_m_x}}"
   ]
  },
  {
   "cell_type": "markdown",
   "metadata": {
    "slideshow": {
     "slide_type": "slide"
    },
    "variables": {
     "_z_xy": "$\\left[\\begin{matrix}1 & -2 & 4 & -8 & 16\\\\1 & -1 & 1 & -1 & 1\\\\1 & 0 & 0 & 0 & 0\\\\1 & 1 & 1 & 1 & 1\\\\0 & 0 & 0 & 0 & 1\\end{matrix}\\right] \\left[\\begin{matrix}z_{0}\\\\z_{1}\\\\z_{2}\\\\z_{3}\\\\z_{4}\\end{matrix}\\right] = \\left[\\begin{matrix}1 & -2 & 4\\\\1 & -1 & 1\\\\1 & 0 & 0\\\\1 & 1 & 1\\\\0 & 0 & 1\\end{matrix}\\right] \\left[\\begin{matrix}x_{0}\\\\x_{1}\\\\x_{2}\\end{matrix}\\right] \\odot \\left[\\begin{matrix}1 & -2 & 4\\\\1 & -1 & 1\\\\1 & 0 & 0\\\\1 & 1 & 1\\\\0 & 0 & 1\\end{matrix}\\right] \\left[\\begin{matrix}y_{0}\\\\y_{1}\\\\y_{2}\\end{matrix}\\right]$"
    }
   },
   "source": [
    "# Multiplication using Toom Cook (k=3)\n",
    "\n",
    "* Multiplying two $k$ length polynomials results in one of length $2k-1$.\n",
    "* Applying same evaluation points to resultant polynomial gives:\n",
    "\n",
    "{{_z_xy}}\n"
   ]
  },
  {
   "cell_type": "markdown",
   "metadata": {
    "slideshow": {
     "slide_type": "subslide"
    }
   },
   "source": [
    "Where $\\odot$ means elementwise multiplication and inverting matrix on LHS will allows us to calculate words $z_i$."
   ]
  },
  {
   "cell_type": "code",
   "execution_count": 39,
   "metadata": {
    "collapsed": false,
    "slideshow": {
     "slide_type": "skip"
    }
   },
   "outputs": [],
   "source": [
    "# wiki example\n",
    "base = 10**8\n",
    "n_x = 1234567890123456789012\n",
    "n_y = 987654321987654321098\n",
    "words_x = Matrix([sp.Integer(i) for i in to_words(n_x, base=base)])\n",
    "words_y = Matrix([sp.Integer(i) for i in to_words(n_y, base=base)])\n",
    "words_z = z_m.inv()*((x_m*words_x).multiply_elementwise(x_m*words_y))\n",
    "n_z = z_t.subs(zip(z,words_z)).subs(t,base)\n",
    "# assert: n_z - (n_x * n_y)\n",
    "_nx_ny = Latex(r\"$%s \\times %s$\" % (n_x, n_y))\n",
    "_z_xy_1 = Latex(r\"$%s %s = %s %s \\odot %s %s$\" % tuple([latex(i) for i in (z_m, z, x_m, words_x, y_m, words_y)]))\n",
    "_z_words = Latex(r\"$%s = %s$\" % tuple([latex(i) for i in (z, words_z)]))\n",
    "_nz = Latex(r\"$%s$\" % (n_z))"
   ]
  },
  {
   "cell_type": "markdown",
   "metadata": {
    "slideshow": {
     "slide_type": "slide"
    },
    "variables": {
     "_nx_ny": "$1234567890123456789012 \\times 987654321987654321098$",
     "_z_xy_1": "$\\left[\\begin{matrix}1 & -2 & 4 & -8 & 16\\\\1 & -1 & 1 & -1 & 1\\\\1 & 0 & 0 & 0 & 0\\\\1 & 1 & 1 & 1 & 1\\\\0 & 0 & 0 & 0 & 1\\end{matrix}\\right] \\left[\\begin{matrix}z_{0}\\\\z_{1}\\\\z_{2}\\\\z_{3}\\\\z_{4}\\end{matrix}\\right] = \\left[\\begin{matrix}1 & -2 & 4\\\\1 & -1 & 1\\\\1 & 0 & 0\\\\1 & 1 & 1\\\\0 & 0 & 1\\end{matrix}\\right] \\left[\\begin{matrix}2112020\\\\3869656\\\\4386066\\end{matrix}\\right] \\odot \\left[\\begin{matrix}1 & -2 & 4\\\\1 & -1 & 1\\\\1 & 0 & 0\\\\1 & 1 & 1\\\\0 & 0 & 1\\end{matrix}\\right] \\left[\\begin{matrix}6882250\\\\329705\\\\3508853\\end{matrix}\\right]$"
    }
   },
   "source": [
    "# Toom Cook Example\n",
    "\n",
    "$n_x \\times n_y = $ {{_nx_ny}}\n",
    "\n",
    "In point representation:\n",
    "\n",
    "{{_z_xy_1}}\n"
   ]
  },
  {
   "cell_type": "markdown",
   "metadata": {
    "slideshow": {
     "slide_type": "subslide"
    },
    "variables": {
     "_nz": "$1539006099253962343824156463228370545449645000$",
     "_z_words": "$\\left[\\begin{matrix}z_{0}\\\\z_{1}\\\\z_{2}\\\\z_{3}\\\\z_{4}\\end{matrix}\\right] = \\left[\\begin{matrix}14535449645000\\\\27328283560100\\\\38872615373040\\\\15024161955098\\\\15390060842298\\end{matrix}\\right]$"
    }
   },
   "source": [
    "Inverting LHS gives\n",
    "\n",
    "{{_z_words}}\n",
    "\n",
    "Multiplying each element by corresponding power base and summing returns:\n",
    "\n",
    "{{_nz}}"
   ]
  },
  {
   "cell_type": "markdown",
   "metadata": {
    "slideshow": {
     "slide_type": "slide"
    }
   },
   "source": [
    "# Lucas Lehmer Test on OpenCL\n",
    "\n",
    "Can we perform the test using our GPU?\n",
    "\n",
    "* Utilise long multiplication as before, this can be easily parallelized.\n",
    "* Simplify process by only working with postive numbers.\n",
    "* Emulate subtraction by 2 by adding $M_n-2$\n",
    "\n",
    "How can we do modulo operations?\n"
   ]
  },
  {
   "cell_type": "markdown",
   "metadata": {
    "slideshow": {
     "slide_type": "slide"
    }
   },
   "source": [
    "# Fast modulo with $M_n$\n",
    "\n",
    "There are similarities when doing modulo arithmetic $10^k-1$ in denary with $2^k-1$ and binary. Consider any number, say 101254 and modulo it 99. Note that:\n",
    "\n",
    "$$101254 \\bmod{99} = (1012 \\times 100 + 54) \\bmod{99}$$ \n",
    "$$ = (1012 \\times 100) \\bmod 99 + 54 \\bmod{99}$$\n",
    "$$ = 1012 + 54 \\bmod{99}$$\n",
    "$$= 1066 \\bmod{99}$$"
   ]
  },
  {
   "cell_type": "markdown",
   "metadata": {
    "slideshow": {
     "slide_type": "subslide"
    }
   },
   "source": [
    "Again, we repeat the process:\n",
    "\n",
    "$$1066 \\bmod{99} = 10*100 + 66$$\n",
    "$$=10*100 \\bmod 99 +66$$\n",
    "$$=10 + 66 \\bmod 99$$\n",
    "$$= 76$$"
   ]
  },
  {
   "cell_type": "markdown",
   "metadata": {
    "slideshow": {
     "slide_type": "subslide"
    }
   },
   "source": [
    "We can apply similar logic to numbers modulo Mersenne numbers:\n",
    "\n",
    "$$11000101110000110 \\bmod{1111111} = (1100010111 + 0000110) \\bmod{1111111}$$\n",
    "$$ = 1100011101 \\bmod {1111111} = (110 + 0011101) \\bmod{1111111}$$\n",
    "$$ = 100011$$"
   ]
  },
  {
   "cell_type": "markdown",
   "metadata": {
    "slideshow": {
     "slide_type": "fragment"
    }
   },
   "source": [
    "Most importantly the whole procedure is parallelizable."
   ]
  },
  {
   "cell_type": "code",
   "execution_count": 4,
   "metadata": {
    "collapsed": true,
    "slideshow": {
     "slide_type": "skip"
    }
   },
   "outputs": [],
   "source": [
    "%%cl_kernel\n",
    "\n",
    "// UINT_MAX\n",
    "#define MAXINT32 4294967295U\n",
    "// USHRT_MAX\n",
    "#define MAXINT16 65535\n",
    "#define WORDBITS 32\n",
    "#define HI16(x) (x >> WORDBITS/2)\n",
    "#define LO16(x) (x & MAXINT16)\n",
    "\n",
    "\n",
    "typedef struct {\n",
    "  uint word_count;\n",
    "  uint p;\n",
    "  uint lhs_word_count;\n",
    "  uint lhs_bit_count;\n",
    "  uint MN;\n",
    "  int mn_cmp; // 0 ~ equal; -1 ~ less than, 1 ~ greater than\n",
    "  uint do_add; // 0 ~ no, 1 ~ yes\n",
    "  int mn_cmp_eq;\n",
    "  int mn_cmp_gt;\n",
    "} param_struct;\n",
    "\n",
    "\n",
    "typedef struct {\n",
    "\tuint lo;\n",
    "\tuint hi; // carry\n",
    "} word_result;\n",
    "\n",
    "word_result word_sum(uint x, uint y) {\n",
    "\tword_result wr;\n",
    "\tif (x > MAXINT32 - y) { // overflow\n",
    "\t\twr.lo = x - (MAXINT32 - y) - 1; // x + y % (MAXINT32+1)\n",
    "\t\twr.hi = 1;\n",
    "\t}\n",
    "\telse {\n",
    "\t\twr.lo = x + y;\n",
    "\t\twr.hi = 0;\n",
    "\t}\n",
    "\treturn wr;\n",
    "}\n",
    "\n",
    "// see http://stackoverflow.com/questions/1815367/multiplication-of-large-numbers-how-to-catch-overflow\n",
    "word_result word_product(uint x, uint y) {\n",
    "\tword_result wr;\n",
    "\n",
    "\tuint x_hi = HI16(x);\n",
    "\tuint x_lo = LO16(x);\n",
    "\tuint y_hi = HI16(y);\n",
    "\tuint y_lo = LO16(y);\n",
    "\n",
    "\tuint z = x_lo * y_lo;\n",
    "\tif (!(x_hi || y_hi)) {\n",
    "\t\twr.lo = z;\n",
    "\t\twr.hi = 0;\n",
    "\t}\n",
    "\telse {\n",
    "\t\tuint s0 = LO16(z);\n",
    "\n",
    "\t\tz = x_hi * y_lo + HI16(z);\n",
    "\t\tuint s1 = LO16(z);\n",
    "\t\tuint s2 = HI16(z);\n",
    "\n",
    "\t\tz = s1 + x_lo * y_hi;\n",
    "\t\ts1 = LO16(z);\n",
    "\n",
    "\t\tz = s2 + x_hi * y_hi + HI16(z);\n",
    "\t\ts2 = LO16(z);\n",
    "\t\tuint s3 = HI16(z);\n",
    "\n",
    "\t\twr.lo = s1 << 16 | s0;\n",
    "\t\twr.hi = s3 << 16 | s2;\n",
    "\t}\n",
    "\treturn wr;\n",
    "}\n",
    "\n",
    "void append_to_work_array(\n",
    "\tconst uint word_count, \n",
    "\tglobal uint *work_g, \n",
    "\tglobal uint *workindex_g, \n",
    "\tuint index, uint value\n",
    ") {\n",
    "\tuint row = atomic_inc(&workindex_g[index]);\n",
    "\twork_g[row*word_count + index] = value;\n",
    "}\n",
    "\n",
    "kernel void initialise_kernel(\n",
    "\tglobal param_struct *params_g\n",
    "\t) {\n",
    "\tparams_g->lhs_word_count = params_g->p / 32; // same as floor for +ve p\n",
    "\tparams_g->lhs_bit_count = params_g->p % 32;\n",
    "\tparams_g->MN = (1 << params_g->lhs_bit_count) - 1; // 2^n - 1\n",
    "}\n",
    "\n",
    "// x^2 -> wa\n",
    "kernel void square_kernel(\n",
    "\tglobal param_struct *params_g,\n",
    "\tglobal const uint *x_g,\n",
    "\tglobal uint *work_g,\n",
    "\tglobal uint *workindex_g\n",
    ") {\n",
    "\tint i = get_global_id(0);\n",
    "\tint j = get_global_id(1);\n",
    "\n",
    "\tif (x_g[i] && x_g[j]) {\n",
    "\t\tword_result prod = word_product(x_g[i], x_g[j]);\n",
    "\t\t//printf(\"tid(%i,%i): lo,hi %u, %u\\n\", i, j, prod.lo, prod.hi);\n",
    "\t\tappend_to_work_array(params_g->word_count, work_g, workindex_g, i + j, prod.lo);\n",
    "\t\tappend_to_work_array(params_g->word_count, work_g, workindex_g, i + j + 1, prod.hi);\n",
    "\t}\n",
    "}\n",
    "\n",
    "// wa -> x, carry\n",
    "kernel void accumulate_kernel(\n",
    "\tglobal param_struct *params_g,\n",
    "\tglobal uint *work_g,\n",
    "\tglobal uint *workindex_g,\n",
    "\tglobal uint *x_g, \n",
    "\tglobal uint *carry_g\n",
    ") {\n",
    "\tint i = get_global_id(0);\n",
    "\n",
    "\tcarry_g[0] = 0; // just in case, it's been used previously\n",
    "\tparams_g->do_add = 1; // ensure x and carry added\n",
    "\n",
    "\t// sum column in z_array\n",
    "\tuint lo = 0;\n",
    "\tuint hi = 0;\n",
    "\n",
    "\tfor (uint j = 0; j < workindex_g[i]; j++) {\n",
    "\t\tword_result sum = word_sum(lo, work_g[j*params_g->word_count + i]);\n",
    "\t\tlo = sum.lo;\n",
    "\t\tif (sum.hi != 0)\n",
    "\t\t\thi += sum.hi; // as always only +1 (<<base) thus save allocating mem\n",
    "\t}\n",
    "\tworkindex_g[i] = 0; // prepare for next use\n",
    "\n",
    "\tx_g[i] = lo;\n",
    "\tcarry_g[i + 1] = hi;\n",
    "}\n",
    "\n",
    "// x+y -> x\n",
    "kernel void add_kernel_single(\n",
    "\tglobal param_struct *params_g,\n",
    "\tglobal uint *x_g,\n",
    "\tglobal const uint *y_g\n",
    ") { \n",
    "\tif (params_g->do_add) {\n",
    "\t\tuint carry = 0;\n",
    "\t\tfor (uint i = 0; i < params_g->word_count; i++) {\n",
    "\t\t\tuint x = x_g[i];\n",
    "\t\t\tuint y = y_g[i];\n",
    "\n",
    "\t\t\tif (carry) {\n",
    "\t\t\t\tword_result sum2 = word_sum(x, carry);\n",
    "\t\t\t\tx = sum2.lo;\n",
    "\t\t\t\tcarry = sum2.hi;\n",
    "\t\t\t}\n",
    "\n",
    "\t\t\tif (y) {\n",
    "\t\t\t\tword_result sum1 = word_sum(x, y);\n",
    "\t\t\t\tx = sum1.lo;\n",
    "\t\t\t\tcarry += sum1.hi;\n",
    "\t\t\t}\n",
    "\n",
    "\t\t\tx_g[i] = x;\n",
    "\t\t}\n",
    "\t}\n",
    "}\n",
    "\n",
    "int mn_compare(\n",
    "\tglobal param_struct *params_g\n",
    ") {\n",
    "\treturn params_g->mn_cmp_eq ? 0 : params_g->mn_cmp_gt ? 1 : -1;\n",
    "}\n",
    "\n",
    "kernel void mn_compare_kernel(\n",
    "\tglobal param_struct *params_g,\n",
    "\tglobal uint *x_g\n",
    ") {\n",
    "\tif (params_g->do_add) {\n",
    "\t\tint i = get_global_id(0);\n",
    "\n",
    "\t\tparams_g->mn_cmp_eq = 1;\n",
    "\t\tparams_g->mn_cmp_gt = 0;\n",
    "\n",
    "\t\tbarrier(CLK_GLOBAL_MEM_FENCE|CLK_LOCAL_MEM_FENCE);\n",
    "\n",
    "\t\tuint lhs_word_count = params_g->lhs_word_count;\n",
    "\t\tuint MN = params_g->MN;\n",
    "\t\tuint lhs_bit_count = params_g->lhs_bit_count;\n",
    "\n",
    "\t\tuint x = x_g[i];\n",
    "\t\n",
    "\t\tif (i < lhs_word_count)\n",
    "\t\t\tatomic_and(&params_g->mn_cmp_eq,  (x == MAXINT32));\n",
    "\t\telse if (i == lhs_word_count) {\n",
    "\t\t\tatomic_and(&params_g->mn_cmp_eq, (x == MN));\n",
    "\t\t\tatomic_or(&params_g->mn_cmp_gt, (32 - clz(x) > lhs_bit_count));\n",
    "\t\t}\n",
    "\t\telse if (i > lhs_word_count) {\n",
    "\t\t\tatomic_and(&params_g->mn_cmp_eq, (x == 0));\n",
    "\t\t\tatomic_or(&params_g->mn_cmp_gt, (x != 0));\n",
    "\t\t}\n",
    "\n",
    "\t\tbarrier(CLK_GLOBAL_MEM_FENCE | CLK_LOCAL_MEM_FENCE);\n",
    "\t\tparams_g->mn_cmp = params_g->mn_cmp_eq ? 0 : params_g->mn_cmp_gt ? 1 : -1;\n",
    "\t}\n",
    "}\n",
    "\n",
    "// wa += (mp-2)\n",
    "// just add parts to work_array\n",
    "kernel void sub2_kernel(\n",
    "\tglobal param_struct *params_g,\n",
    "\tglobal uint *work_g,\n",
    "\tglobal uint *workindex_g\n",
    ") {\n",
    "\tint i = get_global_id(0);\n",
    "\tuint temp = i == 0 ? MAXINT32 - 2 : i < params_g->lhs_word_count ? MAXINT32 : i == params_g->lhs_word_count ? params_g->MN : 0;\n",
    "\tappend_to_work_array(params_g->word_count, work_g, workindex_g, i, temp);\n",
    "}\n",
    "\n",
    "\n",
    "kernel void modmp_kernel_multi2_1(\n",
    "\tglobal param_struct *params_g,\n",
    "\tglobal uint *x_g,\n",
    "\tglobal uint *carry_g\n",
    "\t) {\n",
    "\tint i = get_global_id(0);\n",
    "\n",
    "\t// put rhs in carry_g\n",
    "\n",
    "\tswitch (params_g->mn_cmp) {\n",
    "\t//switch (mn_compare(params_g)) {\n",
    "\tcase 1:\n",
    "\t\tparams_g->do_add = 1;\n",
    "\t\tif (i < params_g->word_count - params_g->lhs_word_count - 1) {\n",
    "\t\t\tuint ms = x_g[params_g->lhs_word_count + i] >> params_g->lhs_bit_count;\n",
    "\t\t\tuint ls = x_g[params_g->lhs_word_count + 1 + i] & params_g->MN;\n",
    "\t\t\tcarry_g[i] = (ls << (32 - params_g->lhs_bit_count) | ms);\n",
    "\t\t}\n",
    "\t\telse\n",
    "\t\t\tcarry_g[i] = 0;\n",
    "\t\tbreak;\n",
    "\tcase 0: // just reset to zero if eq 0 mod mn\n",
    "\t\tx_g[i] = 0;\n",
    "\t\tbreak;\n",
    "\tcase -1:\n",
    "\t\tparams_g->do_add = 0;\n",
    "\t\tbreak;\n",
    "\t}\n",
    "\n",
    "}\n",
    "\n",
    "kernel void modmp_kernel_multi2_2(\n",
    "\tglobal param_struct *params_g,\n",
    "\tglobal uint *x_g,\n",
    "\tglobal uint *carry_g\n",
    "\t) {\n",
    "\tint i = get_global_id(0);\n",
    "\n",
    "\t// leave lhs in x_g\n",
    "\n",
    "\tswitch (params_g->mn_cmp) {\n",
    "\t//switch (mn_compare(params_g)) {\n",
    "\tcase 1:\n",
    "\t\tparams_g->do_add = 1;\n",
    "\t\tif (i == params_g->lhs_word_count) {\n",
    "\t\t\tuint ls = x_g[i] & params_g->MN;\n",
    "\t\t\tx_g[i] = ls;\n",
    "\t\t}\n",
    "\t\telse if (i > params_g->lhs_word_count)\n",
    "\t\t\tx_g[i] = 0;\n",
    "\t\tbreak;\n",
    "\tdefault:\n",
    "\t\tparams_g->do_add = 0;\n",
    "\t}\n",
    "\n",
    "}"
   ]
  },
  {
   "cell_type": "code",
   "execution_count": 21,
   "metadata": {
    "collapsed": false,
    "slideshow": {
     "slide_type": "skip"
    }
   },
   "outputs": [],
   "source": [
    "import numpy as np\n",
    "import pyopencl as cl\n",
    "import pyopencl.tools\n",
    "import random\n",
    "import os, os.path\n",
    "from math import log, ceil\n",
    "\n",
    "class LucasLehmerTest(object):\n",
    "\n",
    "    def __init__(self):\n",
    "        self.ctx = ctx\n",
    "        self.queue = queue\n",
    "\n",
    "    def to_words(self, n, base=2**32, dtype=np.uint32, block_size = None, min_blocks = None):\n",
    "        \"\"\" splits an integer array of x bit words \"\"\"\n",
    "        words = []\n",
    "        bytes_per_word = int(log(base, 2)/8)\n",
    "        n_bytes = n.to_bytes(ceil(n.bit_length()/8), 'little')\n",
    "        padding_bytes = (bytes_per_word - len(n_bytes)) % bytes_per_word\n",
    "        n_bytes_padded = list(n_bytes) + [0] * padding_bytes\n",
    "        chunked = [ n_bytes_padded[i:i+bytes_per_word] for i in range(0, len(n_bytes_padded), bytes_per_word)]\n",
    "        words = [sum([c*2**(8*i) for i,c in enumerate(byte_list)]) for byte_list in chunked]\n",
    "        if block_size:\n",
    "            words = words + [0] * (block_size - (len(words) % block_size))\n",
    "            if min_blocks:\n",
    "                words = words + [0] * (block_size * min_blocks - len(words))\n",
    "        return np.array(words).astype(dtype)\n",
    "\n",
    "    def prepare(self, p = 1279):\n",
    "        self.p = p\n",
    "\n",
    "        self.block_size = 32 # nvidia 32\n",
    "        bits_per_word = 32\n",
    "        self.base = 2**bits_per_word\n",
    "        # n < 2^(bpw)^wc < (2^p - 1)^2 < 2^(2p) -> wc < 2*p / bpw; wc = bs * ceil(2*p / bpw / bs)\n",
    "        self.word_count = self.block_size * ceil(2*p / bits_per_word / self.block_size)\n",
    "        min_blocks = int(self.word_count / self.block_size)\n",
    "\n",
    "        print(\"p: %s; bs: %s; wc: %s\" % (self.p, self.block_size, self.word_count))\n",
    "\n",
    "\n",
    "        self.param_struct = np.dtype([(\"word_count\", np.uint32), (\"p\", np.uint32), \n",
    "                                 (\"lhs_word_count\", np.uint32), (\"lhs_bit_count\", np.uint32), (\"MN\", np.uint32),\n",
    "                                 (\"mn_cmp\", np.int32), (\"do_add\", np.uint32),\n",
    "                                 (\"mn_cmp_eq\", np.int32), (\"mn_cmp_gt\", np.int32)\n",
    "                                 ])\n",
    "        \n",
    "        # in theory should adjust to device padding\n",
    "        #param_struct, param_struct_c_decl = cl.tools.match_dtype_to_c_struct(self.ctx.devices[0], \"param_struct\", param_struct)\n",
    "        #param_struct = cl.tools.get_or_register_dtype(\"param_struct\", param_struct)\n",
    "\n",
    "        params = np.empty(1, self.param_struct)\n",
    "        params[0][\"word_count\"] = self.word_count\n",
    "        params[0][\"p\"] = self.p\n",
    "\n",
    "        x_w = self.to_words(4, base=self.base, dtype=np.uint32, block_size = self.block_size, min_blocks = min_blocks)\n",
    "        work = np.zeros((self.word_count,self.word_count), dtype=np.uint32)\n",
    "        workindex = np.zeros(self.word_count, dtype=np.uint32)\n",
    "        carry = np.zeros(self.word_count, dtype=np.uint32)\n",
    "\n",
    "        mf = cl.mem_flags\n",
    "        self.x_g = cl.Buffer(self.ctx,  mf.READ_WRITE | mf.COPY_HOST_PTR, hostbuf=x_w)\n",
    "        self.work_g = cl.Buffer(self.ctx, mf.READ_WRITE | mf.COPY_HOST_PTR, hostbuf=work) # work area\n",
    "        self.workindex_g = cl.Buffer(self.ctx, mf.READ_WRITE | mf.COPY_HOST_PTR, hostbuf=workindex) # work area index\n",
    "        self.carry_g = cl.Buffer(self.ctx, mf.READ_WRITE | mf.COPY_HOST_PTR, hostbuf=carry) # carry\n",
    "        self.params_g = cl.Buffer(self.ctx, mf.READ_WRITE | mf.COPY_HOST_PTR, hostbuf=params)\n",
    "\n",
    "        self.initialise_kernel = initialise_kernel\n",
    "        self.initialise_kernel.set_args(\n",
    "            self.params_g\n",
    "        )\n",
    "\n",
    "        self.square_kernel = square_kernel\n",
    "        self.square_kernel.set_args(\n",
    "            self.params_g,\n",
    "            self.x_g, \n",
    "            self.work_g,\n",
    "            self.workindex_g\n",
    "        )\n",
    "\n",
    "        self.accumulate_kernel = accumulate_kernel\n",
    "        self.accumulate_kernel.set_args(\n",
    "            self.params_g,\n",
    "            self.work_g,\n",
    "            self.workindex_g,\n",
    "            self.x_g,\n",
    "            self.carry_g\n",
    "        )\n",
    "\n",
    "        self.add_kernel_single = add_kernel_single\n",
    "        self.add_kernel_single.set_args(\n",
    "            self.params_g,\n",
    "            self.x_g,\n",
    "            self.carry_g\n",
    "        )\n",
    "\n",
    "        self.mn_compare_kernel = mn_compare_kernel\n",
    "        self.mn_compare_kernel.set_args(\n",
    "            self.params_g,\n",
    "            self.x_g\n",
    "        )\n",
    "        \n",
    "        self.sub2_kernel = sub2_kernel\n",
    "        self.sub2_kernel.set_args(\n",
    "            self.params_g,\n",
    "            self.work_g,\n",
    "            self.workindex_g\n",
    "        )\n",
    "\n",
    "        self.modmp_kernel_multi2_1 = modmp_kernel_multi2_1\n",
    "        self.modmp_kernel_multi2_1.set_args(\n",
    "            self.params_g,\n",
    "            self.x_g,\n",
    "            self.carry_g\n",
    "        )\n",
    "\n",
    "        self.modmp_kernel_multi2_2 = modmp_kernel_multi2_2\n",
    "        self.modmp_kernel_multi2_2.set_args(\n",
    "            self.params_g,\n",
    "            self.x_g,\n",
    "            self.carry_g\n",
    "        )\n",
    "\n",
    "    def test(self):\n",
    "        ev = cl.enqueue_task(self.queue, self.initialise_kernel)\n",
    "\n",
    "        ev = cl.enqueue_nd_range_kernel(self.queue, self.square_kernel, (self.word_count,self.word_count,), (self.block_size,self.block_size,), wait_for=[ev])\n",
    "        ev = cl.enqueue_nd_range_kernel(self.queue, self.sub2_kernel, (self.word_count,), (self.block_size,), wait_for=[ev])\n",
    "        ev = cl.enqueue_nd_range_kernel(self.queue, self.accumulate_kernel, (self.word_count,), (self.block_size,), wait_for=[ev])\n",
    "        ev = cl.enqueue_task(self.queue, self.add_kernel_single, wait_for=[ev])\n",
    "        ev = cl.enqueue_nd_range_kernel(self.queue, self.mn_compare_kernel, (self.word_count,), (self.block_size,), wait_for=[ev])\n",
    "        ev = cl.enqueue_nd_range_kernel(self.queue, self.modmp_kernel_multi2_1, (self.word_count,), (self.block_size,), wait_for=[ev])\n",
    "        ev = cl.enqueue_nd_range_kernel(self.queue, self.modmp_kernel_multi2_2, (self.word_count,), (self.block_size,), wait_for=[ev])\n",
    "        ev = cl.enqueue_task(self.queue, self.add_kernel_single, wait_for=[ev])\n",
    "        ev = cl.enqueue_nd_range_kernel(self.queue, self.mn_compare_kernel, (self.word_count,), (self.block_size,), wait_for=[ev])\n",
    "        ev = cl.enqueue_nd_range_kernel(self.queue, self.modmp_kernel_multi2_1, (self.word_count,), (self.block_size,), wait_for=[ev])\n",
    "        ev = cl.enqueue_nd_range_kernel(self.queue, self.modmp_kernel_multi2_2, (self.word_count,), (self.block_size,), wait_for=[ev])\n",
    "        ev = cl.enqueue_task(self.queue, self.add_kernel_single, wait_for=[ev])\n",
    "        ev = cl.enqueue_nd_range_kernel(self.queue, self.mn_compare_kernel, (self.word_count,), (self.block_size,), wait_for=[ev])\n",
    "\n",
    "        for i in range(3, self.p):\n",
    "            ev = cl.enqueue_nd_range_kernel(self.queue, self.square_kernel, (self.word_count,self.word_count,), (self.block_size,self.block_size,), wait_for=[ev])       \n",
    "            ev = cl.enqueue_nd_range_kernel(self.queue, self.sub2_kernel, (self.word_count,), (self.block_size,), wait_for=[ev])\n",
    "            ev = cl.enqueue_nd_range_kernel(self.queue, self.accumulate_kernel, (self.word_count,), (self.block_size,), wait_for=[ev])\n",
    "            ev = cl.enqueue_task(self.queue, self.add_kernel_single, wait_for=[ev])\n",
    "            ev = cl.enqueue_nd_range_kernel(self.queue, self.mn_compare_kernel, (self.word_count,), (self.block_size,), wait_for=[ev])\n",
    "            ev = cl.enqueue_nd_range_kernel(self.queue, self.modmp_kernel_multi2_1, (self.word_count,), (self.block_size,), wait_for=[ev])\n",
    "            ev = cl.enqueue_nd_range_kernel(self.queue, self.modmp_kernel_multi2_2, (self.word_count,), (self.block_size,), wait_for=[ev])\n",
    "            ev = cl.enqueue_task(self.queue, self.add_kernel_single, wait_for=[ev])\n",
    "            ev = cl.enqueue_nd_range_kernel(self.queue, self.mn_compare_kernel, (self.word_count,), (self.block_size,), wait_for=[ev])\n",
    "            ev = cl.enqueue_nd_range_kernel(self.queue, self.modmp_kernel_multi2_1, (self.word_count,), (self.block_size,), wait_for=[ev])\n",
    "            ev = cl.enqueue_nd_range_kernel(self.queue, self.modmp_kernel_multi2_2, (self.word_count,), (self.block_size,), wait_for=[ev])\n",
    "            ev = cl.enqueue_task(self.queue, self.add_kernel_single, wait_for=[ev])\n",
    "            ev = cl.enqueue_nd_range_kernel(self.queue, self.mn_compare_kernel, (self.word_count,), (self.block_size,), wait_for=[ev])\n",
    "\n",
    "        z_w = np.zeros(self.word_count, dtype=np.uint32)\n",
    "        cl.enqueue_copy(self.queue, z_w, self.x_g)\n",
    "\n",
    "        carry = np.zeros(self.word_count, dtype=np.uint32) \n",
    "        cl.enqueue_copy(self.queue, carry, self.carry_g)\n",
    "\n",
    "        work = np.zeros((self.word_count,self.word_count), dtype=np.uint32)\n",
    "        workindex = np.zeros(self.word_count, dtype=np.uint32)\n",
    "        cl.enqueue_copy(self.queue, work, self.work_g)\n",
    "        cl.enqueue_copy(self.queue, workindex, self.workindex_g)\n",
    "        \n",
    "        z = sum([int(x)*self.base**i for i, x in enumerate(z_w)])\n",
    "        return \"prime\" if z == 0 else \"comp\"\n"
   ]
  },
  {
   "cell_type": "markdown",
   "metadata": {
    "slideshow": {
     "slide_type": "slide"
    }
   },
   "source": [
    "# How does this compare?"
   ]
  },
  {
   "cell_type": "code",
   "execution_count": 24,
   "metadata": {
    "collapsed": false,
    "slideshow": {
     "slide_type": "fragment"
    }
   },
   "outputs": [
    {
     "name": "stdout",
     "output_type": "stream",
     "text": [
      "p: 1279; bs: 32; wc: 96\n",
      "1 loops, best of 1: 346 ms per loop\n"
     ]
    }
   ],
   "source": [
    "%%timeit -n 1 -r 1\n",
    "llt = LucasLehmerTest()\n",
    "llt.prepare(p=1279)\n",
    "llt.test()"
   ]
  },
  {
   "cell_type": "code",
   "execution_count": 23,
   "metadata": {
    "collapsed": false,
    "slideshow": {
     "slide_type": "fragment"
    }
   },
   "outputs": [
    {
     "name": "stdout",
     "output_type": "stream",
     "text": [
      "1000 loops, best of 3: 290 µs per loop\n"
     ]
    }
   ],
   "source": [
    "%%timeit\n",
    "merse4(1279)"
   ]
  },
  {
   "cell_type": "markdown",
   "metadata": {
    "slideshow": {
     "slide_type": "slide"
    }
   },
   "source": [
    "# Post mortem 1\n",
    "\n",
    "Why doesn't this work well?\n",
    "\n",
    "* GPU clock speed .7 versus CPU 2.2 GHz\n",
    "* GPUs well known not to b optimal for integer calculations\n",
    "* Inability to properly parallelize addition operation\n",
    "\n",
    "|Kernel Name|Count|Device %|Device Time (µs)|\n",
    "|-|-:|-:|-:|\n",
    "|initialise_kernel|1|0|6.38|\n",
    "|square_kernel|1277|1.88|23,738.43|\n",
    "|accumulate_kernel|1277|6.26|79,271.30|\n",
    "|add_kernel_single|3831|23.74|300,572.39|\n",
    "|mn_compare_kernel|3831|2.14|27,144.41|\n",
    "|sub2_kernel|1277|4.32|54,720.99|\n",
    "|modmp_kernel_multi2_1|2554|0.84|10,675.29|\n",
    "|modmp_kernel_multi2_2|2554|8.54|108,062.32|\n"
   ]
  },
  {
   "cell_type": "markdown",
   "metadata": {
    "slideshow": {
     "slide_type": "slide"
    }
   },
   "source": [
    "# Post mortem 2\n",
    "\n",
    "* Overhead of queuing kernels and transferring data to GPU\n",
    "\n",
    "|Name|Count|Time %|Total (µs)|\n",
    "|-|-:|-:|-:|\n",
    "|clEnqueueNDRangeKernel|12770|34.13|432,080.73|\n",
    "|clBuildProgram|1|23.58|298,559.66|\n",
    "|clEnqueueTask|3832|12.11|153,256.40|\n",
    "|clCreateContext|1|2.98|37,773.32|\n",
    "|clEnqueueReadBuffer|4|1.85|23,407.23|\n",
    "|clReleaseEvent|16606|1.12|14,163.10|\n",
    "|clReleaseKernel|8|0.82|10,373.87|\n",
    "|clReleaseCommandQueue|1|0.4|5,079.03|\n",
    "|clReleaseMemObject|5|0.03|352.016|\n",
    "|clCreateKernel|8|0.02|220.732|\n",
    "\n",
    "Potentially cured in OpenCL v2"
   ]
  },
  {
   "cell_type": "markdown",
   "metadata": {
    "slideshow": {
     "slide_type": "slide"
    }
   },
   "source": [
    "# Possible improvements?\n",
    "\n",
    "* Channeling GPU calculations\n",
    "* Discrete Fourier Transforms\n",
    "    * Utilise polymonial representaion and Horner method (results in O(n^2))\n",
    "    * Divide & Conquer algorithms\n",
    "    * Utilise SSA algorithm\n",
    "* Use 64 bit arithmetic extensions\n",
    "* OpenCL v2"
   ]
  },
  {
   "cell_type": "markdown",
   "metadata": {
    "collapsed": true,
    "slideshow": {
     "slide_type": "slide"
    }
   },
   "source": [
    "# References\n",
    "* GIMPS - http://www.mersenne.org/\n",
    "* Lucas Lehmer Test - https://en.wikipedia.org/wiki/Lucas%E2%80%93Lehmer_primality_test\n",
    "* Polynomial Interpolation - https://en.wikipedia.org/wiki/Polynomial_interpolation\n",
    "* PyOpenCL - http://documen.tician.de/pyopencl/\n",
    "* FFT integer multiplication - http://www.cs.rug.nl/~ando/pdfs/Ando_Emerencia_multiplying_huge_integers_using_fourier_transforms_paper.pdf\n",
    "* Super fast FFT multiplication [Furer] - http://web.archive.org/web/20130425232048/http://www.cse.psu.edu/~furer/Papers/mult.pdf\n",
    "* Multiplication on GPUs - http://domino.mpi-inf.mpg.de/intranet/ag1/ag1publ.nsf/AuthorEditorIndividualView/ca00677497561c7ec125763c0044a41a/$FILE/gpgpu_mul.pdf?OpenElement\n",
    "* Recursive FFT algorithm - http://imgur.com/NlZzXv0\n",
    "* GMP multiplication implementation - https://gmplib.org/manual/FFT-Multiplication.html#FFT-Multiplication"
   ]
  },
  {
   "cell_type": "code",
   "execution_count": null,
   "metadata": {
    "collapsed": true
   },
   "outputs": [],
   "source": []
  }
 ],
 "metadata": {
  "celltoolbar": "Slideshow",
  "kernelspec": {
   "display_name": "Python 3",
   "language": "python",
   "name": "python3"
  },
  "language_info": {
   "codemirror_mode": {
    "name": "ipython",
    "version": 3
   },
   "file_extension": ".py",
   "mimetype": "text/x-python",
   "name": "python",
   "nbconvert_exporter": "python",
   "pygments_lexer": "ipython3",
   "version": "3.4.3"
  }
 },
 "nbformat": 4,
 "nbformat_minor": 0
}
